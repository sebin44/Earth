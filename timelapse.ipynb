{
 "cells": [
  {
   "cell_type": "markdown",
   "metadata": {},
   "source": [
    "<a href=\"https://githubtocolab.com/giswqs/geemap/blob/master/examples/notebooks/39_timelapse.ipynb\" target=\"_parent\"><img src=\"https://colab.research.google.com/assets/colab-badge.svg\" alt=\"Open in Colab\"/></a>\n",
    "\n",
    "Uncomment the following line to install [geemap](https://geemap.org) if needed."
   ]
  },
  {
   "cell_type": "code",
   "execution_count": 24,
   "metadata": {},
   "outputs": [
    {
     "name": "stdout",
     "output_type": "stream",
     "text": [
      "Requirement already satisfied: geemap in d:\\programdata\\anaconda3\\lib\\site-packages (0.8.16)\n",
      "Requirement already satisfied: python-box in d:\\programdata\\anaconda3\\lib\\site-packages (from geemap) (5.3.0)\n",
      "Requirement already satisfied: ipyfilechooser in d:\\programdata\\anaconda3\\lib\\site-packages (from geemap) (0.4.3)\n",
      "Requirement already satisfied: matplotlib in d:\\programdata\\anaconda3\\lib\\site-packages (from geemap) (3.3.2)\n",
      "Requirement already satisfied: ipyevents in d:\\programdata\\anaconda3\\lib\\site-packages (from geemap) (0.8.2)\n",
      "Requirement already satisfied: pyshp>=2.1.3 in d:\\programdata\\anaconda3\\lib\\site-packages (from geemap) (2.1.3)\n",
      "Requirement already satisfied: whiteboxgui in d:\\programdata\\anaconda3\\lib\\site-packages (from geemap) (0.1.9)\n",
      "Requirement already satisfied: ipytree in d:\\programdata\\anaconda3\\lib\\site-packages (from geemap) (0.2.1)\n",
      "Requirement already satisfied: bqplot in d:\\programdata\\anaconda3\\lib\\site-packages (from geemap) (0.12.27)\n",
      "Requirement already satisfied: geocoder in d:\\programdata\\anaconda3\\lib\\site-packages (from geemap) (1.38.1)\n",
      "Requirement already satisfied: mss in d:\\programdata\\anaconda3\\lib\\site-packages (from geemap) (6.1.0)\n",
      "Requirement already satisfied: pillow in d:\\programdata\\anaconda3\\lib\\site-packages (from geemap) (8.0.1)\n",
      "Requirement already satisfied: googledrivedownloader in d:\\programdata\\anaconda3\\lib\\site-packages (from geemap) (0.4)\n",
      "Requirement already satisfied: voila in d:\\programdata\\anaconda3\\lib\\site-packages (from geemap) (0.2.10)\n",
      "Requirement already satisfied: ipynb-py-convert in d:\\programdata\\anaconda3\\lib\\site-packages (from geemap) (0.4.6)\n",
      "Requirement already satisfied: pandas in d:\\programdata\\anaconda3\\lib\\site-packages (from geemap) (1.1.3)\n",
      "Requirement already satisfied: geeadd>=0.5.1 in d:\\programdata\\anaconda3\\lib\\site-packages (from geemap) (0.5.4)\n",
      "Requirement already satisfied: ffmpeg-python in d:\\programdata\\anaconda3\\lib\\site-packages (from geemap) (0.2.0)\n",
      "Requirement already satisfied: click in d:\\programdata\\anaconda3\\lib\\site-packages (from geemap) (7.1.2)\n",
      "Requirement already satisfied: pycrs in d:\\programdata\\anaconda3\\lib\\site-packages (from geemap) (1.0.2)\n",
      "Requirement already satisfied: earthengine-api>=0.1.230 in d:\\programdata\\anaconda3\\lib\\site-packages (from geemap) (0.1.266)\n",
      "Requirement already satisfied: folium>=0.11.0 in d:\\programdata\\anaconda3\\lib\\site-packages (from geemap) (0.12.1)\n",
      "Requirement already satisfied: ipyleaflet<=0.13.3 in d:\\programdata\\anaconda3\\lib\\site-packages (from geemap) (0.13.3)\n",
      "Requirement already satisfied: colour in d:\\programdata\\anaconda3\\lib\\site-packages (from geemap) (0.1.5)\n",
      "Requirement already satisfied: numpy in d:\\programdata\\anaconda3\\lib\\site-packages (from geemap) (1.19.2)\n",
      "Requirement already satisfied: ipywidgets in d:\\programdata\\anaconda3\\lib\\site-packages (from ipyfilechooser->geemap) (7.5.1)\n",
      "Requirement already satisfied: python-dateutil>=2.1 in d:\\programdata\\anaconda3\\lib\\site-packages (from matplotlib->geemap) (2.8.1)\n",
      "Requirement already satisfied: certifi>=2020.06.20 in d:\\programdata\\anaconda3\\lib\\site-packages (from matplotlib->geemap) (2020.6.20)\n",
      "Requirement already satisfied: pyparsing!=2.0.4,!=2.1.2,!=2.1.6,>=2.0.3 in d:\\programdata\\anaconda3\\lib\\site-packages (from matplotlib->geemap) (2.4.7)\n",
      "Requirement already satisfied: kiwisolver>=1.0.1 in d:\\programdata\\anaconda3\\lib\\site-packages (from matplotlib->geemap) (1.3.0)\n",
      "Requirement already satisfied: cycler>=0.10 in d:\\programdata\\anaconda3\\lib\\site-packages (from matplotlib->geemap) (0.10.0)\n",
      "Requirement already satisfied: whitebox in d:\\programdata\\anaconda3\\lib\\site-packages (from whiteboxgui->geemap) (1.4.1)\n",
      "Requirement already satisfied: traitlets>=4.3.0 in d:\\programdata\\anaconda3\\lib\\site-packages (from bqplot->geemap) (5.0.5)\n",
      "Requirement already satisfied: traittypes>=0.0.6 in d:\\programdata\\anaconda3\\lib\\site-packages (from bqplot->geemap) (0.2.1)\n",
      "Requirement already satisfied: requests in d:\\programdata\\anaconda3\\lib\\site-packages (from geocoder->geemap) (2.24.0)\n",
      "Requirement already satisfied: ratelim in d:\\programdata\\anaconda3\\lib\\site-packages (from geocoder->geemap) (0.1.6)\n",
      "Requirement already satisfied: six in d:\\programdata\\anaconda3\\lib\\site-packages (from geocoder->geemap) (1.15.0)\n",
      "Requirement already satisfied: future in d:\\programdata\\anaconda3\\lib\\site-packages (from geocoder->geemap) (0.18.2)\n",
      "Requirement already satisfied: jupyter-client<7,>=6.1.3 in d:\\programdata\\anaconda3\\lib\\site-packages (from voila->geemap) (6.1.7)\n",
      "Requirement already satisfied: nbconvert<7,>=6.0.0 in d:\\programdata\\anaconda3\\lib\\site-packages (from voila->geemap) (6.0.7)\n",
      "Requirement already satisfied: jupyter-server<2.0.0,>=0.3.0 in d:\\programdata\\anaconda3\\lib\\site-packages (from voila->geemap) (1.8.0)\n",
      "Requirement already satisfied: nbclient<0.6,>=0.4.0 in d:\\programdata\\anaconda3\\lib\\site-packages (from voila->geemap) (0.5.1)\n",
      "Requirement already satisfied: pytz>=2017.2 in d:\\programdata\\anaconda3\\lib\\site-packages (from pandas->geemap) (2020.1)\n",
      "Requirement already satisfied: beautifulsoup4>=4.9.0 in d:\\programdata\\anaconda3\\lib\\site-packages (from geeadd>=0.5.1->geemap) (4.9.3)\n",
      "Requirement already satisfied: logzero>=1.5.0 in d:\\programdata\\anaconda3\\lib\\site-packages (from geeadd>=0.5.1->geemap) (1.7.0)\n",
      "Requirement already satisfied: google-auth-httplib2>=0.0.3 in d:\\programdata\\anaconda3\\lib\\site-packages (from earthengine-api>=0.1.230->geemap) (0.1.0)\n",
      "Requirement already satisfied: httplib2shim in d:\\programdata\\anaconda3\\lib\\site-packages (from earthengine-api>=0.1.230->geemap) (0.0.3)\n",
      "Requirement already satisfied: google-api-python-client<2,>=1.12.1 in d:\\programdata\\anaconda3\\lib\\site-packages (from earthengine-api>=0.1.230->geemap) (1.12.8)\n",
      "Requirement already satisfied: google-auth>=1.4.1 in d:\\programdata\\anaconda3\\lib\\site-packages (from earthengine-api>=0.1.230->geemap) (1.30.1)\n",
      "Requirement already satisfied: google-cloud-storage in d:\\programdata\\anaconda3\\lib\\site-packages (from earthengine-api>=0.1.230->geemap) (1.38.0)\n",
      "Requirement already satisfied: httplib2<1dev,>=0.9.2 in d:\\programdata\\anaconda3\\lib\\site-packages (from earthengine-api>=0.1.230->geemap) (0.19.1)\n",
      "Requirement already satisfied: branca>=0.3.0 in d:\\programdata\\anaconda3\\lib\\site-packages (from folium>=0.11.0->geemap) (0.4.2)\n",
      "Requirement already satisfied: jinja2>=2.9 in d:\\programdata\\anaconda3\\lib\\site-packages (from folium>=0.11.0->geemap) (2.11.2)\n",
      "Requirement already satisfied: ipython>=4.0.0; python_version >= \"3.3\" in d:\\programdata\\anaconda3\\lib\\site-packages (from ipywidgets->ipyfilechooser->geemap) (7.19.0)\n",
      "Requirement already satisfied: ipykernel>=4.5.1 in d:\\programdata\\anaconda3\\lib\\site-packages (from ipywidgets->ipyfilechooser->geemap) (5.3.4)\n",
      "Requirement already satisfied: nbformat>=4.2.0 in d:\\programdata\\anaconda3\\lib\\site-packages (from ipywidgets->ipyfilechooser->geemap) (5.0.8)\n",
      "Requirement already satisfied: widgetsnbextension~=3.5.0 in d:\\programdata\\anaconda3\\lib\\site-packages (from ipywidgets->ipyfilechooser->geemap) (3.5.1)\n",
      "Requirement already satisfied: ipython-genutils in d:\\programdata\\anaconda3\\lib\\site-packages (from traitlets>=4.3.0->bqplot->geemap) (0.2.0)\n",
      "Requirement already satisfied: urllib3!=1.25.0,!=1.25.1,<1.26,>=1.21.1 in d:\\programdata\\anaconda3\\lib\\site-packages (from requests->geocoder->geemap) (1.25.11)\n",
      "Requirement already satisfied: chardet<4,>=3.0.2 in d:\\programdata\\anaconda3\\lib\\site-packages (from requests->geocoder->geemap) (3.0.4)\n",
      "Requirement already satisfied: idna<3,>=2.5 in d:\\programdata\\anaconda3\\lib\\site-packages (from requests->geocoder->geemap) (2.10)\n",
      "Requirement already satisfied: decorator in d:\\programdata\\anaconda3\\lib\\site-packages (from ratelim->geocoder->geemap) (4.4.2)\n",
      "Requirement already satisfied: tornado>=4.1 in d:\\programdata\\anaconda3\\lib\\site-packages (from jupyter-client<7,>=6.1.3->voila->geemap) (6.1)\n",
      "Requirement already satisfied: jupyter-core>=4.6.0 in d:\\programdata\\anaconda3\\lib\\site-packages (from jupyter-client<7,>=6.1.3->voila->geemap) (4.6.3)\n",
      "Requirement already satisfied: pyzmq>=13 in d:\\programdata\\anaconda3\\lib\\site-packages (from jupyter-client<7,>=6.1.3->voila->geemap) (19.0.2)\n",
      "Requirement already satisfied: bleach in d:\\programdata\\anaconda3\\lib\\site-packages (from nbconvert<7,>=6.0.0->voila->geemap) (3.2.1)\n",
      "Requirement already satisfied: pygments>=2.4.1 in d:\\programdata\\anaconda3\\lib\\site-packages (from nbconvert<7,>=6.0.0->voila->geemap) (2.7.2)\n",
      "Requirement already satisfied: testpath in d:\\programdata\\anaconda3\\lib\\site-packages (from nbconvert<7,>=6.0.0->voila->geemap) (0.4.4)\n",
      "Requirement already satisfied: defusedxml in d:\\programdata\\anaconda3\\lib\\site-packages (from nbconvert<7,>=6.0.0->voila->geemap) (0.6.0)\n",
      "Requirement already satisfied: pandocfilters>=1.4.1 in d:\\programdata\\anaconda3\\lib\\site-packages (from nbconvert<7,>=6.0.0->voila->geemap) (1.4.3)\n",
      "Requirement already satisfied: mistune<2,>=0.8.1 in d:\\programdata\\anaconda3\\lib\\site-packages (from nbconvert<7,>=6.0.0->voila->geemap) (0.8.4)\n",
      "Requirement already satisfied: jupyterlab-pygments in d:\\programdata\\anaconda3\\lib\\site-packages (from nbconvert<7,>=6.0.0->voila->geemap) (0.1.2)\n",
      "Requirement already satisfied: entrypoints>=0.2.2 in d:\\programdata\\anaconda3\\lib\\site-packages (from nbconvert<7,>=6.0.0->voila->geemap) (0.3)\n",
      "Requirement already satisfied: terminado>=0.8.3 in d:\\programdata\\anaconda3\\lib\\site-packages (from jupyter-server<2.0.0,>=0.3.0->voila->geemap) (0.9.1)\n",
      "Requirement already satisfied: Send2Trash in d:\\programdata\\anaconda3\\lib\\site-packages (from jupyter-server<2.0.0,>=0.3.0->voila->geemap) (1.5.0)\n",
      "Requirement already satisfied: prometheus-client in d:\\programdata\\anaconda3\\lib\\site-packages (from jupyter-server<2.0.0,>=0.3.0->voila->geemap) (0.8.0)\n",
      "Requirement already satisfied: websocket-client in d:\\programdata\\anaconda3\\lib\\site-packages (from jupyter-server<2.0.0,>=0.3.0->voila->geemap) (1.0.1)\n",
      "Requirement already satisfied: anyio<4,>=3.1.0 in d:\\programdata\\anaconda3\\lib\\site-packages (from jupyter-server<2.0.0,>=0.3.0->voila->geemap) (3.1.0)\n",
      "Requirement already satisfied: argon2-cffi in d:\\programdata\\anaconda3\\lib\\site-packages (from jupyter-server<2.0.0,>=0.3.0->voila->geemap) (20.1.0)\n",
      "Requirement already satisfied: async-generator in d:\\programdata\\anaconda3\\lib\\site-packages (from nbclient<0.6,>=0.4.0->voila->geemap) (1.10)\n",
      "Requirement already satisfied: nest-asyncio in d:\\programdata\\anaconda3\\lib\\site-packages (from nbclient<0.6,>=0.4.0->voila->geemap) (1.4.2)\n",
      "Requirement already satisfied: soupsieve>1.2; python_version >= \"3.0\" in d:\\programdata\\anaconda3\\lib\\site-packages (from beautifulsoup4>=4.9.0->geeadd>=0.5.1->geemap) (2.0.1)\n",
      "Requirement already satisfied: colorama; sys_platform == \"win32\" in d:\\programdata\\anaconda3\\lib\\site-packages (from logzero>=1.5.0->geeadd>=0.5.1->geemap) (0.4.4)\n",
      "Requirement already satisfied: uritemplate<4dev,>=3.0.0 in d:\\programdata\\anaconda3\\lib\\site-packages (from google-api-python-client<2,>=1.12.1->earthengine-api>=0.1.230->geemap) (3.0.1)\n",
      "Requirement already satisfied: google-api-core<2dev,>=1.21.0 in d:\\programdata\\anaconda3\\lib\\site-packages (from google-api-python-client<2,>=1.12.1->earthengine-api>=0.1.230->geemap) (1.28.0)\n",
      "Requirement already satisfied: cachetools<5.0,>=2.0.0 in d:\\programdata\\anaconda3\\lib\\site-packages (from google-auth>=1.4.1->earthengine-api>=0.1.230->geemap) (4.2.2)\n",
      "Requirement already satisfied: setuptools>=40.3.0 in d:\\programdata\\anaconda3\\lib\\site-packages (from google-auth>=1.4.1->earthengine-api>=0.1.230->geemap) (50.3.1.post20201107)\n",
      "Requirement already satisfied: rsa<5,>=3.1.4; python_version >= \"3.6\" in d:\\programdata\\anaconda3\\lib\\site-packages (from google-auth>=1.4.1->earthengine-api>=0.1.230->geemap) (4.7.2)\n",
      "Requirement already satisfied: pyasn1-modules>=0.2.1 in d:\\programdata\\anaconda3\\lib\\site-packages (from google-auth>=1.4.1->earthengine-api>=0.1.230->geemap) (0.2.8)\n",
      "Requirement already satisfied: google-cloud-core<2.0dev,>=1.4.1 in d:\\programdata\\anaconda3\\lib\\site-packages (from google-cloud-storage->earthengine-api>=0.1.230->geemap) (1.6.0)\n",
      "Requirement already satisfied: google-resumable-media<2.0dev,>=1.2.0 in d:\\programdata\\anaconda3\\lib\\site-packages (from google-cloud-storage->earthengine-api>=0.1.230->geemap) (1.3.0)\n",
      "Requirement already satisfied: MarkupSafe>=0.23 in d:\\programdata\\anaconda3\\lib\\site-packages (from jinja2>=2.9->folium>=0.11.0->geemap) (1.1.1)\n",
      "Requirement already satisfied: jedi>=0.10 in d:\\programdata\\anaconda3\\lib\\site-packages (from ipython>=4.0.0; python_version >= \"3.3\"->ipywidgets->ipyfilechooser->geemap) (0.17.1)\n",
      "Requirement already satisfied: prompt-toolkit!=3.0.0,!=3.0.1,<3.1.0,>=2.0.0 in d:\\programdata\\anaconda3\\lib\\site-packages (from ipython>=4.0.0; python_version >= \"3.3\"->ipywidgets->ipyfilechooser->geemap) (3.0.8)\n",
      "Requirement already satisfied: pickleshare in d:\\programdata\\anaconda3\\lib\\site-packages (from ipython>=4.0.0; python_version >= \"3.3\"->ipywidgets->ipyfilechooser->geemap) (0.7.5)\n",
      "Requirement already satisfied: backcall in d:\\programdata\\anaconda3\\lib\\site-packages (from ipython>=4.0.0; python_version >= \"3.3\"->ipywidgets->ipyfilechooser->geemap) (0.2.0)\n",
      "Requirement already satisfied: jsonschema!=2.5.0,>=2.4 in d:\\programdata\\anaconda3\\lib\\site-packages (from nbformat>=4.2.0->ipywidgets->ipyfilechooser->geemap) (3.2.0)\n",
      "Requirement already satisfied: notebook>=4.4.1 in d:\\programdata\\anaconda3\\lib\\site-packages (from widgetsnbextension~=3.5.0->ipywidgets->ipyfilechooser->geemap) (6.1.4)\n",
      "Requirement already satisfied: pywin32>=1.0; sys_platform == \"win32\" in d:\\programdata\\anaconda3\\lib\\site-packages (from jupyter-core>=4.6.0->jupyter-client<7,>=6.1.3->voila->geemap) (227)\n",
      "Requirement already satisfied: packaging in d:\\programdata\\anaconda3\\lib\\site-packages (from bleach->nbconvert<7,>=6.0.0->voila->geemap) (20.4)\n",
      "Requirement already satisfied: webencodings in d:\\programdata\\anaconda3\\lib\\site-packages (from bleach->nbconvert<7,>=6.0.0->voila->geemap) (0.5.1)\n",
      "Requirement already satisfied: pywinpty>=0.5 in d:\\programdata\\anaconda3\\lib\\site-packages (from terminado>=0.8.3->jupyter-server<2.0.0,>=0.3.0->voila->geemap) (0.5.7)\n",
      "Requirement already satisfied: sniffio>=1.1 in d:\\programdata\\anaconda3\\lib\\site-packages (from anyio<4,>=3.1.0->jupyter-server<2.0.0,>=0.3.0->voila->geemap) (1.2.0)\n",
      "Requirement already satisfied: cffi>=1.0.0 in d:\\programdata\\anaconda3\\lib\\site-packages (from argon2-cffi->jupyter-server<2.0.0,>=0.3.0->voila->geemap) (1.14.3)\n",
      "Requirement already satisfied: protobuf>=3.12.0 in d:\\programdata\\anaconda3\\lib\\site-packages (from google-api-core<2dev,>=1.21.0->google-api-python-client<2,>=1.12.1->earthengine-api>=0.1.230->geemap) (3.17.1)\n",
      "Requirement already satisfied: googleapis-common-protos<2.0dev,>=1.6.0 in d:\\programdata\\anaconda3\\lib\\site-packages (from google-api-core<2dev,>=1.21.0->google-api-python-client<2,>=1.12.1->earthengine-api>=0.1.230->geemap) (1.53.0)\n",
      "Requirement already satisfied: pyasn1>=0.1.3 in d:\\programdata\\anaconda3\\lib\\site-packages (from rsa<5,>=3.1.4; python_version >= \"3.6\"->google-auth>=1.4.1->earthengine-api>=0.1.230->geemap) (0.4.8)\n",
      "Requirement already satisfied: google-crc32c<2.0dev,>=1.0; python_version >= \"3.5\" in d:\\programdata\\anaconda3\\lib\\site-packages (from google-resumable-media<2.0dev,>=1.2.0->google-cloud-storage->earthengine-api>=0.1.230->geemap) (1.1.2)\n",
      "Requirement already satisfied: parso<0.8.0,>=0.7.0 in d:\\programdata\\anaconda3\\lib\\site-packages (from jedi>=0.10->ipython>=4.0.0; python_version >= \"3.3\"->ipywidgets->ipyfilechooser->geemap) (0.7.0)\n",
      "Requirement already satisfied: wcwidth in d:\\programdata\\anaconda3\\lib\\site-packages (from prompt-toolkit!=3.0.0,!=3.0.1,<3.1.0,>=2.0.0->ipython>=4.0.0; python_version >= \"3.3\"->ipywidgets->ipyfilechooser->geemap) (0.2.5)\n",
      "Requirement already satisfied: pyrsistent>=0.14.0 in d:\\programdata\\anaconda3\\lib\\site-packages (from jsonschema!=2.5.0,>=2.4->nbformat>=4.2.0->ipywidgets->ipyfilechooser->geemap) (0.17.3)\n",
      "Requirement already satisfied: attrs>=17.4.0 in d:\\programdata\\anaconda3\\lib\\site-packages (from jsonschema!=2.5.0,>=2.4->nbformat>=4.2.0->ipywidgets->ipyfilechooser->geemap) (20.3.0)\n",
      "Requirement already satisfied: pycparser in d:\\programdata\\anaconda3\\lib\\site-packages (from cffi>=1.0.0->argon2-cffi->jupyter-server<2.0.0,>=0.3.0->voila->geemap) (2.20)\n"
     ]
    }
   ],
   "source": [
    "!pip install geemap"
   ]
  },
  {
   "cell_type": "markdown",
   "metadata": {},
   "source": [
    "## Creating Landsat Timelapse\n",
    "\n",
    "**Steps to create a Landsat timelapse:**\n",
    "\n",
    "1. Pan and zoom to your area of interest, or click the globe icon at the upper left corner to search for a location.\n",
    "2. Use the drawing tool to draw a rectangle anywhere on the map.\n",
    "3. Adjust the parameters (e.g., start year, end year, title) if needed.\n",
    "4. Click the `Create timelapse` button to create a timelapse.\n",
    "5. Once the timelapse has been added to the map, click the hyperlink at the end if you want to download the GIF.\n",
    "\n",
    "**Web Apps:** https://gishub.org/timelapse, https://gishub.org/gee-ngrok\n",
    "\n",
    "**Contact:** Dr. Qiusheng Wu ([Website](https://wetlands.io/), [LinkedIn](https://www.linkedin.com/in/qiushengwu), [Twitter](https://twitter.com/giswqs), [YouTube](https://www.youtube.com/c/QiushengWu))"
   ]
  },
  {
   "cell_type": "code",
   "execution_count": 25,
   "metadata": {},
   "outputs": [
    {
     "data": {
      "text/html": [
       "<div style=\"width:100%;\"><div style=\"position:relative;width:100%;height:0;padding-bottom:60%;\"><span style=\"color:#565656\">Make this Notebook Trusted to load map: File -> Trust Notebook</span><iframe src=\"about:blank\" style=\"position:absolute;width:100%;height:100%;left:0;top:0;border:none !important;\" data-html=%3C%21DOCTYPE%20html%3E%0A%3Chead%3E%20%20%20%20%0A%20%20%20%20%3Cmeta%20http-equiv%3D%22content-type%22%20content%3D%22text/html%3B%20charset%3DUTF-8%22%20/%3E%0A%20%20%20%20%0A%20%20%20%20%20%20%20%20%3Cscript%3E%0A%20%20%20%20%20%20%20%20%20%20%20%20L_NO_TOUCH%20%3D%20false%3B%0A%20%20%20%20%20%20%20%20%20%20%20%20L_DISABLE_3D%20%3D%20false%3B%0A%20%20%20%20%20%20%20%20%3C/script%3E%0A%20%20%20%20%0A%20%20%20%20%3Cstyle%3Ehtml%2C%20body%20%7Bwidth%3A%20100%25%3Bheight%3A%20100%25%3Bmargin%3A%200%3Bpadding%3A%200%3B%7D%3C/style%3E%0A%20%20%20%20%3Cstyle%3E%23map%20%7Bposition%3Aabsolute%3Btop%3A0%3Bbottom%3A0%3Bright%3A0%3Bleft%3A0%3B%7D%3C/style%3E%0A%20%20%20%20%3Cscript%20src%3D%22https%3A//cdn.jsdelivr.net/npm/leaflet%401.6.0/dist/leaflet.js%22%3E%3C/script%3E%0A%20%20%20%20%3Cscript%20src%3D%22https%3A//code.jquery.com/jquery-1.12.4.min.js%22%3E%3C/script%3E%0A%20%20%20%20%3Cscript%20src%3D%22https%3A//maxcdn.bootstrapcdn.com/bootstrap/3.2.0/js/bootstrap.min.js%22%3E%3C/script%3E%0A%20%20%20%20%3Cscript%20src%3D%22https%3A//cdnjs.cloudflare.com/ajax/libs/Leaflet.awesome-markers/2.0.2/leaflet.awesome-markers.js%22%3E%3C/script%3E%0A%20%20%20%20%3Clink%20rel%3D%22stylesheet%22%20href%3D%22https%3A//cdn.jsdelivr.net/npm/leaflet%401.6.0/dist/leaflet.css%22/%3E%0A%20%20%20%20%3Clink%20rel%3D%22stylesheet%22%20href%3D%22https%3A//maxcdn.bootstrapcdn.com/bootstrap/3.2.0/css/bootstrap.min.css%22/%3E%0A%20%20%20%20%3Clink%20rel%3D%22stylesheet%22%20href%3D%22https%3A//maxcdn.bootstrapcdn.com/bootstrap/3.2.0/css/bootstrap-theme.min.css%22/%3E%0A%20%20%20%20%3Clink%20rel%3D%22stylesheet%22%20href%3D%22https%3A//maxcdn.bootstrapcdn.com/font-awesome/4.6.3/css/font-awesome.min.css%22/%3E%0A%20%20%20%20%3Clink%20rel%3D%22stylesheet%22%20href%3D%22https%3A//cdnjs.cloudflare.com/ajax/libs/Leaflet.awesome-markers/2.0.2/leaflet.awesome-markers.css%22/%3E%0A%20%20%20%20%3Clink%20rel%3D%22stylesheet%22%20href%3D%22https%3A//cdn.jsdelivr.net/gh/python-visualization/folium/folium/templates/leaflet.awesome.rotate.min.css%22/%3E%0A%20%20%20%20%0A%20%20%20%20%20%20%20%20%20%20%20%20%3Cmeta%20name%3D%22viewport%22%20content%3D%22width%3Ddevice-width%2C%0A%20%20%20%20%20%20%20%20%20%20%20%20%20%20%20%20initial-scale%3D1.0%2C%20maximum-scale%3D1.0%2C%20user-scalable%3Dno%22%20/%3E%0A%20%20%20%20%20%20%20%20%20%20%20%20%3Cstyle%3E%0A%20%20%20%20%20%20%20%20%20%20%20%20%20%20%20%20%23map_472241da5c9c462a9ef6f06c18c8c3b6%20%7B%0A%20%20%20%20%20%20%20%20%20%20%20%20%20%20%20%20%20%20%20%20position%3A%20relative%3B%0A%20%20%20%20%20%20%20%20%20%20%20%20%20%20%20%20%20%20%20%20width%3A%20100.0%25%3B%0A%20%20%20%20%20%20%20%20%20%20%20%20%20%20%20%20%20%20%20%20height%3A%20100.0%25%3B%0A%20%20%20%20%20%20%20%20%20%20%20%20%20%20%20%20%20%20%20%20left%3A%200.0%25%3B%0A%20%20%20%20%20%20%20%20%20%20%20%20%20%20%20%20%20%20%20%20top%3A%200.0%25%3B%0A%20%20%20%20%20%20%20%20%20%20%20%20%20%20%20%20%7D%0A%20%20%20%20%20%20%20%20%20%20%20%20%3C/style%3E%0A%20%20%20%20%20%20%20%20%0A%20%20%20%20%3Cscript%20src%3D%22https%3A//cdnjs.cloudflare.com/ajax/libs/leaflet.fullscreen/1.4.2/Control.FullScreen.min.js%22%3E%3C/script%3E%0A%20%20%20%20%3Clink%20rel%3D%22stylesheet%22%20href%3D%22https%3A//cdnjs.cloudflare.com/ajax/libs/leaflet.fullscreen/1.4.2/Control.FullScreen.min.css%22/%3E%0A%3C/head%3E%0A%3Cbody%3E%20%20%20%20%0A%20%20%20%20%0A%20%20%20%20%20%20%20%20%20%20%20%20%3Cdiv%20class%3D%22folium-map%22%20id%3D%22map_472241da5c9c462a9ef6f06c18c8c3b6%22%20%3E%3C/div%3E%0A%20%20%20%20%20%20%20%20%0A%3C/body%3E%0A%3Cscript%3E%20%20%20%20%0A%20%20%20%20%0A%20%20%20%20%20%20%20%20%20%20%20%20var%20map_472241da5c9c462a9ef6f06c18c8c3b6%20%3D%20L.map%28%0A%20%20%20%20%20%20%20%20%20%20%20%20%20%20%20%20%22map_472241da5c9c462a9ef6f06c18c8c3b6%22%2C%0A%20%20%20%20%20%20%20%20%20%20%20%20%20%20%20%20%7B%0A%20%20%20%20%20%20%20%20%20%20%20%20%20%20%20%20%20%20%20%20center%3A%20%5B40.0%2C%20-100.0%5D%2C%0A%20%20%20%20%20%20%20%20%20%20%20%20%20%20%20%20%20%20%20%20crs%3A%20L.CRS.EPSG3857%2C%0A%20%20%20%20%20%20%20%20%20%20%20%20%20%20%20%20%20%20%20%20zoom%3A%204%2C%0A%20%20%20%20%20%20%20%20%20%20%20%20%20%20%20%20%20%20%20%20zoomControl%3A%20true%2C%0A%20%20%20%20%20%20%20%20%20%20%20%20%20%20%20%20%20%20%20%20preferCanvas%3A%20false%2C%0A%20%20%20%20%20%20%20%20%20%20%20%20%20%20%20%20%20%20%20%20eeInitialize%3A%20true%2C%0A%20%20%20%20%20%20%20%20%20%20%20%20%20%20%20%20%20%20%20%20addGoogleMap%3A%20true%2C%0A%20%20%20%20%20%20%20%20%20%20%20%20%20%20%20%20%20%20%20%20pluginLatlngpopup%3A%20true%2C%0A%20%20%20%20%20%20%20%20%20%20%20%20%20%20%20%20%20%20%20%20pluginFullscreen%3A%20true%2C%0A%20%20%20%20%20%20%20%20%20%20%20%20%20%20%20%20%20%20%20%20pluginDraw%3A%20false%2C%0A%20%20%20%20%20%20%20%20%20%20%20%20%20%20%20%20%20%20%20%20DrawExport%3A%20true%2C%0A%20%20%20%20%20%20%20%20%20%20%20%20%20%20%20%20%20%20%20%20pluginMinimap%3A%20false%2C%0A%20%20%20%20%20%20%20%20%20%20%20%20%20%20%20%20%20%20%20%20pluginLayercontrol%3A%20false%2C%0A%20%20%20%20%20%20%20%20%20%20%20%20%20%20%20%20%7D%0A%20%20%20%20%20%20%20%20%20%20%20%20%29%3B%0A%0A%20%20%20%20%20%20%20%20%20%20%20%20%0A%0A%20%20%20%20%20%20%20%20%0A%20%20%20%20%0A%20%20%20%20%20%20%20%20%20%20%20%20var%20tile_layer_637b65ea93774c9dac64ab5ec24d7495%20%3D%20L.tileLayer%28%0A%20%20%20%20%20%20%20%20%20%20%20%20%20%20%20%20%22https%3A//%7Bs%7D.tile.openstreetmap.org/%7Bz%7D/%7Bx%7D/%7By%7D.png%22%2C%0A%20%20%20%20%20%20%20%20%20%20%20%20%20%20%20%20%7B%22attribution%22%3A%20%22Data%20by%20%5Cu0026copy%3B%20%5Cu003ca%20href%3D%5C%22http%3A//openstreetmap.org%5C%22%5Cu003eOpenStreetMap%5Cu003c/a%5Cu003e%2C%20under%20%5Cu003ca%20href%3D%5C%22http%3A//www.openstreetmap.org/copyright%5C%22%5Cu003eODbL%5Cu003c/a%5Cu003e.%22%2C%20%22detectRetina%22%3A%20false%2C%20%22maxNativeZoom%22%3A%2018%2C%20%22maxZoom%22%3A%2018%2C%20%22minZoom%22%3A%200%2C%20%22noWrap%22%3A%20false%2C%20%22opacity%22%3A%201%2C%20%22subdomains%22%3A%20%22abc%22%2C%20%22tms%22%3A%20false%7D%0A%20%20%20%20%20%20%20%20%20%20%20%20%29.addTo%28map_472241da5c9c462a9ef6f06c18c8c3b6%29%3B%0A%20%20%20%20%20%20%20%20%0A%20%20%20%20%0A%20%20%20%20%20%20%20%20%20%20%20%20var%20tile_layer_e92e77c779db4a209b7595c80dced8b2%20%3D%20L.tileLayer%28%0A%20%20%20%20%20%20%20%20%20%20%20%20%20%20%20%20%22https%3A//mt1.google.com/vt/lyrs%3Dm%5Cu0026x%3D%7Bx%7D%5Cu0026y%3D%7By%7D%5Cu0026z%3D%7Bz%7D%22%2C%0A%20%20%20%20%20%20%20%20%20%20%20%20%20%20%20%20%7B%22attribution%22%3A%20%22Google%22%2C%20%22detectRetina%22%3A%20false%2C%20%22maxNativeZoom%22%3A%2018%2C%20%22maxZoom%22%3A%2018%2C%20%22minZoom%22%3A%200%2C%20%22noWrap%22%3A%20false%2C%20%22opacity%22%3A%201%2C%20%22subdomains%22%3A%20%22abc%22%2C%20%22tms%22%3A%20false%7D%0A%20%20%20%20%20%20%20%20%20%20%20%20%29.addTo%28map_472241da5c9c462a9ef6f06c18c8c3b6%29%3B%0A%20%20%20%20%20%20%20%20%0A%20%20%20%20%0A%20%20%20%20%20%20%20%20%20%20%20%20%20%20%20%20var%20lat_lng_popup_58f97052e6914f0995f2cf58cf5385b6%20%3D%20L.popup%28%29%3B%0A%20%20%20%20%20%20%20%20%20%20%20%20%20%20%20%20function%20latLngPop%28e%29%20%7B%0A%20%20%20%20%20%20%20%20%20%20%20%20%20%20%20%20%20%20%20%20lat_lng_popup_58f97052e6914f0995f2cf58cf5385b6%0A%20%20%20%20%20%20%20%20%20%20%20%20%20%20%20%20%20%20%20%20%20%20%20%20.setLatLng%28e.latlng%29%0A%20%20%20%20%20%20%20%20%20%20%20%20%20%20%20%20%20%20%20%20%20%20%20%20.setContent%28%22Latitude%3A%20%22%20%2B%20e.latlng.lat.toFixed%284%29%20%2B%0A%20%20%20%20%20%20%20%20%20%20%20%20%20%20%20%20%20%20%20%20%20%20%20%20%20%20%20%20%20%20%20%20%20%20%20%20%22%3Cbr%3ELongitude%3A%20%22%20%2B%20e.latlng.lng.toFixed%284%29%29%0A%20%20%20%20%20%20%20%20%20%20%20%20%20%20%20%20%20%20%20%20%20%20%20%20.openOn%28map_472241da5c9c462a9ef6f06c18c8c3b6%29%3B%0A%20%20%20%20%20%20%20%20%20%20%20%20%20%20%20%20%20%20%20%20%7D%0A%20%20%20%20%20%20%20%20%20%20%20%20%20%20%20%20map_472241da5c9c462a9ef6f06c18c8c3b6.on%28%27click%27%2C%20latLngPop%29%3B%0A%20%20%20%20%20%20%20%20%20%20%20%20%0A%20%20%20%20%0A%20%20%20%20%20%20%20%20%20%20%20%20L.control.fullscreen%28%0A%20%20%20%20%20%20%20%20%20%20%20%20%20%20%20%20%7B%22forceSeparateButton%22%3A%20false%2C%20%22position%22%3A%20%22topleft%22%2C%20%22title%22%3A%20%22Full%20Screen%22%2C%20%22titleCancel%22%3A%20%22Exit%20Full%20Screen%22%7D%0A%20%20%20%20%20%20%20%20%20%20%20%20%29.addTo%28map_472241da5c9c462a9ef6f06c18c8c3b6%29%3B%0A%20%20%20%20%20%20%20%20%0A%20%20%20%20%0A%20%20%20%20%20%20%20%20%20%20%20%20map_472241da5c9c462a9ef6f06c18c8c3b6.fitBounds%28%0A%20%20%20%20%20%20%20%20%20%20%20%20%20%20%20%20%5B%5B40%2C%20-100%5D%2C%20%5B40%2C%20-100%5D%5D%2C%0A%20%20%20%20%20%20%20%20%20%20%20%20%20%20%20%20%7B%22maxZoom%22%3A%204%7D%0A%20%20%20%20%20%20%20%20%20%20%20%20%29%3B%0A%20%20%20%20%20%20%20%20%0A%20%20%20%20%0A%20%20%20%20%20%20%20%20%20%20%20%20var%20layer_control_8c94b50d41f84be2bef7c9fb684ac5cc%20%3D%20%7B%0A%20%20%20%20%20%20%20%20%20%20%20%20%20%20%20%20base_layers%20%3A%20%7B%0A%20%20%20%20%20%20%20%20%20%20%20%20%20%20%20%20%20%20%20%20%22openstreetmap%22%20%3A%20tile_layer_637b65ea93774c9dac64ab5ec24d7495%2C%0A%20%20%20%20%20%20%20%20%20%20%20%20%20%20%20%20%7D%2C%0A%20%20%20%20%20%20%20%20%20%20%20%20%20%20%20%20overlays%20%3A%20%20%7B%0A%20%20%20%20%20%20%20%20%20%20%20%20%20%20%20%20%20%20%20%20%22Google%20Maps%22%20%3A%20tile_layer_e92e77c779db4a209b7595c80dced8b2%2C%0A%20%20%20%20%20%20%20%20%20%20%20%20%20%20%20%20%7D%2C%0A%20%20%20%20%20%20%20%20%20%20%20%20%7D%3B%0A%20%20%20%20%20%20%20%20%20%20%20%20L.control.layers%28%0A%20%20%20%20%20%20%20%20%20%20%20%20%20%20%20%20layer_control_8c94b50d41f84be2bef7c9fb684ac5cc.base_layers%2C%0A%20%20%20%20%20%20%20%20%20%20%20%20%20%20%20%20layer_control_8c94b50d41f84be2bef7c9fb684ac5cc.overlays%2C%0A%20%20%20%20%20%20%20%20%20%20%20%20%20%20%20%20%7B%22autoZIndex%22%3A%20true%2C%20%22collapsed%22%3A%20true%2C%20%22position%22%3A%20%22topright%22%7D%0A%20%20%20%20%20%20%20%20%20%20%20%20%29.addTo%28map_472241da5c9c462a9ef6f06c18c8c3b6%29%3B%0A%20%20%20%20%20%20%20%20%0A%3C/script%3E onload=\"this.contentDocument.open();this.contentDocument.write(    decodeURIComponent(this.getAttribute('data-html')));this.contentDocument.close();\" allowfullscreen webkitallowfullscreen mozallowfullscreen></iframe></div></div>"
      ],
      "text/plain": [
       "<geemap.eefolium.Map at 0x2d8aa7e0730>"
      ]
     },
     "execution_count": 25,
     "metadata": {},
     "output_type": "execute_result"
    }
   ],
   "source": [
    "import geemap.eefolium as geemap\n",
    "Map = geemap.Map()\n",
    "Map"
   ]
  },
  {
   "cell_type": "code",
   "execution_count": 26,
   "metadata": {},
   "outputs": [],
   "source": [
    "import os\n",
    "import ee\n",
    "import geemap\n",
    "import ipywidgets as widgets"
   ]
  },
  {
   "cell_type": "code",
   "execution_count": 27,
   "metadata": {},
   "outputs": [
    {
     "data": {
      "application/vnd.jupyter.widget-view+json": {
       "model_id": "0b8119dbf765429cafe29560f7e6102e",
       "version_major": 2,
       "version_minor": 0
      },
      "text/plain": [
       "Map(center=[40, -100], controls=(WidgetControl(options=['position'], widget=HBox(children=(ToggleButton(value=…"
      ]
     },
     "metadata": {},
     "output_type": "display_data"
    }
   ],
   "source": [
    "Map = geemap.Map()\n",
    "Map.add_basemap('HYBRID')\n",
    "Map"
   ]
  },
  {
   "cell_type": "code",
   "execution_count": 28,
   "metadata": {},
   "outputs": [
    {
     "data": {
      "application/vnd.jupyter.widget-view+json": {
       "model_id": "7889b3d8aba147c783824d7b4a18d641",
       "version_major": 2,
       "version_minor": 0
      },
      "text/plain": [
       "HBox(children=(Text(value='Landsat Timelapse', description='Title:', style=DescriptionStyle(description_width=…"
      ]
     },
     "metadata": {},
     "output_type": "display_data"
    }
   ],
   "source": [
    "style = {'description_width': 'initial'}\n",
    "title = widgets.Text(\n",
    "    description='Title:',\n",
    "    value='Landsat Timelapse',\n",
    "    width=200,\n",
    "    style=style\n",
    ")\n",
    "\n",
    "bands = widgets.Dropdown(\n",
    "    description='Select RGB Combo:',\n",
    "    options=['Red/Green/Blue', 'NIR/Red/Green',  'SWIR2/SWIR1/NIR', 'NIR/SWIR1/Red','SWIR2/NIR/Red', \n",
    "             'SWIR2/SWIR1/Red', 'SWIR1/NIR/Blue', 'NIR/SWIR1/Blue', 'SWIR2/NIR/Green', 'SWIR1/NIR/Red'],\n",
    "    value='NIR/Red/Green',\n",
    "    style=style\n",
    ")\n",
    "\n",
    "hbox1 = widgets.HBox([title, bands])\n",
    "hbox1"
   ]
  },
  {
   "cell_type": "code",
   "execution_count": 29,
   "metadata": {},
   "outputs": [
    {
     "data": {
      "application/vnd.jupyter.widget-view+json": {
       "model_id": "82ccfe9c7a0841c1a4875f9768ad0761",
       "version_major": 2,
       "version_minor": 0
      },
      "text/plain": [
       "HBox(children=(IntSlider(value=10, description='  Frames per second:', max=30, min=1, style=SliderStyle(descri…"
      ]
     },
     "metadata": {},
     "output_type": "display_data"
    }
   ],
   "source": [
    "speed = widgets.IntSlider(\n",
    "    description='  Frames per second:',\n",
    "    tooltip='Frames per second:',\n",
    "    value=10,\n",
    "    min=1, \n",
    "    max = 30,\n",
    "    style=style\n",
    ")\n",
    "\n",
    "cloud = widgets.Checkbox(\n",
    "    value=True,\n",
    "    description='Apply fmask (remove clouds, shadows, snow)',\n",
    "    style=style\n",
    ")\n",
    "\n",
    "hbox2 = widgets.HBox([speed, cloud])\n",
    "hbox2"
   ]
  },
  {
   "cell_type": "code",
   "execution_count": 30,
   "metadata": {
    "scrolled": true
   },
   "outputs": [
    {
     "data": {
      "application/vnd.jupyter.widget-view+json": {
       "model_id": "161da031bd0449fdbf601ebbfe2f13cc",
       "version_major": 2,
       "version_minor": 0
      },
      "text/plain": [
       "HBox(children=(IntSlider(value=1984, description='Start Year:', max=2020, min=1984, style=SliderStyle(descript…"
      ]
     },
     "metadata": {},
     "output_type": "display_data"
    }
   ],
   "source": [
    "start_year = widgets.IntSlider(description='Start Year:', value=1984, min=1984, max=2020, style=style)\n",
    "end_year = widgets.IntSlider(description='End Year:', value=2020, min=1984, max=2020, style=style)\n",
    "start_month = widgets.IntSlider(description='Start Month:', value=5, min=1, max=12, style=style)\n",
    "end_month = widgets.IntSlider(description='End Month:', value=10, min=1, max=12, style=style)\n",
    "hbox3 = widgets.HBox([start_year, end_year, start_month, end_month])\n",
    "hbox3"
   ]
  },
  {
   "cell_type": "code",
   "execution_count": 31,
   "metadata": {},
   "outputs": [
    {
     "data": {
      "application/vnd.jupyter.widget-view+json": {
       "model_id": "0f480ec2c8044fee8daffd57ba88382e",
       "version_major": 2,
       "version_minor": 0
      },
      "text/plain": [
       "HBox(children=(IntSlider(value=30, description='Font size:', max=50, min=10, style=SliderStyle(description_wid…"
      ]
     },
     "metadata": {},
     "output_type": "display_data"
    }
   ],
   "source": [
    "font_size = widgets.IntSlider(description='Font size:', value=30, min=10, max=50, style=style)\n",
    "\n",
    "font_color = widgets.ColorPicker(\n",
    "    concise=False,\n",
    "    description='Font color:',\n",
    "    value='white',\n",
    "    style=style\n",
    ")\n",
    "\n",
    "progress_bar_color = widgets.ColorPicker(\n",
    "    concise=False,\n",
    "    description='Progress bar color:',\n",
    "    value='blue',\n",
    "    style=style\n",
    ")\n",
    "\n",
    "hbox4 = widgets.HBox([font_size, font_color, progress_bar_color])\n",
    "hbox4"
   ]
  },
  {
   "cell_type": "code",
   "execution_count": 32,
   "metadata": {},
   "outputs": [
    {
     "data": {
      "application/vnd.jupyter.widget-view+json": {
       "model_id": "388d919fa4ef481ab6f63504458e50bc",
       "version_major": 2,
       "version_minor": 0
      },
      "text/plain": [
       "HBox(children=(Dropdown(description='Normalized Difference Index:', options=('Vegetation Index (NDVI)', 'Water…"
      ]
     },
     "metadata": {},
     "output_type": "display_data"
    }
   ],
   "source": [
    "# Normalized Satellite Indices: https://www.usna.edu/Users/oceano/pguth/md_help/html/norm_sat.htm\n",
    "\n",
    "nd_options = ['Vegetation Index (NDVI)', \n",
    "              'Water Index (NDWI)',\n",
    "              'Modified Water Index (MNDWI)',\n",
    "              'Snow Index (NDSI)',\n",
    "              'Soil Index (NDSI)',\n",
    "              'Burn Ratio (NBR)',\n",
    "              'Customized']\n",
    "nd_indices = widgets.Dropdown(options=nd_options, value=None, description='Normalized Difference Index:', style=style)\n",
    "\n",
    "first_band = widgets.Dropdown(\n",
    "    description='1st band:',\n",
    "    options=['Blue', 'Green','Red','NIR', 'SWIR1', 'SWIR2'],\n",
    "    value=None,\n",
    "    style=style\n",
    ")\n",
    "\n",
    "second_band = widgets.Dropdown(\n",
    "    description='2nd band:',\n",
    "    options=['Blue', 'Green','Red','NIR', 'SWIR1', 'SWIR2'],\n",
    "    value=None,\n",
    "    style=style\n",
    ")\n",
    "\n",
    "nd_threshold = widgets.FloatSlider(\n",
    "    value=0,\n",
    "    min=-1,\n",
    "    max=1,\n",
    "    step=0.01,\n",
    "    description='Threshold:',\n",
    "    orientation='horizontal',\n",
    ")\n",
    "\n",
    "nd_color = widgets.ColorPicker(\n",
    "    concise=False,\n",
    "    description='Color:',\n",
    "    value='blue',\n",
    "    style=style\n",
    ")\n",
    "\n",
    "def nd_index_change(change):\n",
    "    if nd_indices.value == 'Vegetation Index (NDVI)':\n",
    "        first_band.value = 'NIR'\n",
    "        second_band.value = 'Red'\n",
    "    elif nd_indices.value == 'Water Index (NDWI)':\n",
    "        first_band.value = 'NIR'\n",
    "        second_band.value = 'SWIR1'   \n",
    "    elif nd_indices.value == 'Modified Water Index (MNDWI)':\n",
    "        first_band.value = 'Green'\n",
    "        second_band.value = 'SWIR1'   \n",
    "    elif nd_indices.value == 'Snow Index (NDSI)':\n",
    "        first_band.value = 'Green'\n",
    "        second_band.value = 'SWIR1'\n",
    "    elif nd_indices.value == 'Soil Index (NDSI)':\n",
    "        first_band.value = 'SWIR1'\n",
    "        second_band.value = 'NIR'        \n",
    "    elif nd_indices.value == 'Burn Ratio (NBR)':\n",
    "        first_band.value = 'NIR'\n",
    "        second_band.value = 'SWIR2'\n",
    "    elif nd_indices.value == 'Customized':\n",
    "        first_band.value = None\n",
    "        second_band.value = None\n",
    "        \n",
    "nd_indices.observe(nd_index_change, names='value')\n",
    "\n",
    "hbox5 = widgets.HBox([nd_indices, first_band, second_band, nd_threshold, nd_color])\n",
    "hbox5"
   ]
  },
  {
   "cell_type": "code",
   "execution_count": 33,
   "metadata": {},
   "outputs": [
    {
     "data": {
      "application/vnd.jupyter.widget-view+json": {
       "model_id": "184db3b5bcf24684998d378567f0c6e7",
       "version_major": 2,
       "version_minor": 0
      },
      "text/plain": [
       "HBox(children=(Button(button_style='primary', description='Create timelapse', style=ButtonStyle(), tooltip='Cl…"
      ]
     },
     "metadata": {},
     "output_type": "display_data"
    }
   ],
   "source": [
    "create_gif = widgets.Button(\n",
    "    description='Create timelapse',\n",
    "    button_style='primary',\n",
    "    tooltip='Click to create timelapse',\n",
    "    style=style\n",
    ")\n",
    "\n",
    "download_gif = widgets.Button(\n",
    "    description='Download GIF',\n",
    "    button_style='primary',\n",
    "    tooltip='Click to download timelapse',\n",
    "    disabled=False,\n",
    "    style=style\n",
    ")\n",
    "\n",
    "output = widgets.Output()\n",
    "\n",
    "hbox5 = widgets.HBox([create_gif])\n",
    "hbox5"
   ]
  },
  {
   "cell_type": "code",
   "execution_count": 34,
   "metadata": {},
   "outputs": [],
   "source": [
    "def submit_clicked(b):\n",
    "    \n",
    "    with output:\n",
    "        output.clear_output()\n",
    "        if start_year.value > end_year.value:\n",
    "            print('The end year must be great than the start year.')\n",
    "            return\n",
    "        if start_month.value > end_month.value:\n",
    "            print('The end month must be great than the start month.')\n",
    "            return        \n",
    "        if start_year.value == end_year.value:\n",
    "            add_progress_bar = False\n",
    "        else:\n",
    "            add_progress_bar = True\n",
    "            \n",
    "        start_date = str(start_month.value).zfill(2) + '-01'\n",
    "        end_date = str(end_month.value).zfill(2) + '-30'\n",
    "        \n",
    "        print('Computing...')\n",
    "        \n",
    "        nd_bands = None    \n",
    "        if (first_band.value is not None) and (second_band.value is not None):\n",
    "            nd_bands = [first_band.value, second_band.value]\n",
    "\n",
    "        Map.add_landsat_ts_gif(roi=Map.user_roi, label=title.value, start_year=start_year.value, \n",
    "                               end_year=end_year.value, start_date=start_date, end_date=end_date, \n",
    "                               bands=bands.value.split('/'), font_color=font_color.value, \n",
    "                               frames_per_second=speed.value, font_size=font_size.value, \n",
    "                               add_progress_bar= add_progress_bar, progress_bar_color=progress_bar_color.value, \n",
    "                               download=True, apply_fmask=cloud.value, nd_bands=nd_bands, \n",
    "                               nd_threshold=nd_threshold.value, nd_palette=['black', nd_color.value]) \n",
    "            \n",
    "create_gif.on_click(submit_clicked)"
   ]
  },
  {
   "cell_type": "code",
   "execution_count": 35,
   "metadata": {},
   "outputs": [
    {
     "data": {
      "application/vnd.jupyter.widget-view+json": {
       "model_id": "357d452b9d0f4dbd8bd4187da79ff093",
       "version_major": 2,
       "version_minor": 0
      },
      "text/plain": [
       "Output()"
      ]
     },
     "metadata": {},
     "output_type": "display_data"
    }
   ],
   "source": [
    "output"
   ]
  },
  {
   "cell_type": "code",
   "execution_count": null,
   "metadata": {},
   "outputs": [],
   "source": []
  }
 ],
 "metadata": {
  "hide_input": true,
  "kernelspec": {
   "display_name": "Python 3",
   "language": "python",
   "name": "python3"
  },
  "language_info": {
   "codemirror_mode": {
    "name": "ipython",
    "version": 3
   },
   "file_extension": ".py",
   "mimetype": "text/x-python",
   "name": "python",
   "nbconvert_exporter": "python",
   "pygments_lexer": "ipython3",
   "version": "3.8.5"
  },
  "toc": {
   "base_numbering": 1,
   "nav_menu": {},
   "number_sections": true,
   "sideBar": true,
   "skip_h1_title": true,
   "title_cell": "Table of Contents",
   "title_sidebar": "Table of Contents",
   "toc_cell": false,
   "toc_position": {},
   "toc_section_display": true,
   "toc_window_display": false
  },
  "varInspector": {
   "cols": {
    "lenName": 16,
    "lenType": 16,
    "lenVar": 40
   },
   "kernels_config": {
    "python": {
     "delete_cmd_postfix": "",
     "delete_cmd_prefix": "del ",
     "library": "var_list.py",
     "varRefreshCmd": "print(var_dic_list())"
    },
    "r": {
     "delete_cmd_postfix": ") ",
     "delete_cmd_prefix": "rm(",
     "library": "var_list.r",
     "varRefreshCmd": "cat(var_dic_list()) "
    }
   },
   "types_to_exclude": [
    "module",
    "function",
    "builtin_function_or_method",
    "instance",
    "_Feature"
   ],
   "window_display": false
  }
 },
 "nbformat": 4,
 "nbformat_minor": 4
}
